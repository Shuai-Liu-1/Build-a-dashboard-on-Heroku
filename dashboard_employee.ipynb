{
 "cells": [
  {
   "cell_type": "markdown",
   "id": "428ff40a",
   "metadata": {},
   "source": [
    "1. How to install:https://dash.plotly.com/installation # need pandas as well\n",
    "2. User guide: https://dash.plotly.com/\n"
   ]
  },
  {
   "cell_type": "code",
   "execution_count": 1,
   "id": "d40e5fa9",
   "metadata": {
    "scrolled": true
   },
   "outputs": [],
   "source": [
    "#pip install dash"
   ]
  },
  {
   "cell_type": "code",
   "execution_count": 2,
   "id": "afe6950b",
   "metadata": {},
   "outputs": [],
   "source": [
    "import pandas as pd\n",
    "import dash\n",
    "import plotly.graph_objects as go\n",
    "from dash import Dash, html, Input, Output,dcc\n",
    "import plotly.express as px"
   ]
  },
  {
   "cell_type": "code",
   "execution_count": 3,
   "id": "d4b2e918",
   "metadata": {},
   "outputs": [
    {
     "data": {
      "text/plain": [
       "'5.8.2'"
      ]
     },
     "execution_count": 3,
     "metadata": {},
     "output_type": "execute_result"
    }
   ],
   "source": [
    "import plotly\n",
    "plotly.__version__"
   ]
  },
  {
   "cell_type": "code",
   "execution_count": 4,
   "id": "2819ce32",
   "metadata": {},
   "outputs": [
    {
     "data": {
      "text/html": [
       "<div>\n",
       "<style scoped>\n",
       "    .dataframe tbody tr th:only-of-type {\n",
       "        vertical-align: middle;\n",
       "    }\n",
       "\n",
       "    .dataframe tbody tr th {\n",
       "        vertical-align: top;\n",
       "    }\n",
       "\n",
       "    .dataframe thead th {\n",
       "        text-align: right;\n",
       "    }\n",
       "</style>\n",
       "<table border=\"1\" class=\"dataframe\">\n",
       "  <thead>\n",
       "    <tr style=\"text-align: right;\">\n",
       "      <th></th>\n",
       "      <th>Unnamed: 0</th>\n",
       "      <th>id</th>\n",
       "      <th>gender</th>\n",
       "      <th>bdate</th>\n",
       "      <th>educ</th>\n",
       "      <th>jobcat</th>\n",
       "      <th>salary</th>\n",
       "      <th>salbegin</th>\n",
       "      <th>jobtime</th>\n",
       "      <th>prevexp</th>\n",
       "      <th>minority</th>\n",
       "    </tr>\n",
       "  </thead>\n",
       "  <tbody>\n",
       "    <tr>\n",
       "      <th>0</th>\n",
       "      <td>0</td>\n",
       "      <td>1.0</td>\n",
       "      <td>Male</td>\n",
       "      <td>1.165415e+10</td>\n",
       "      <td>15</td>\n",
       "      <td>Manager</td>\n",
       "      <td>57000.0</td>\n",
       "      <td>27000.0</td>\n",
       "      <td>98.0</td>\n",
       "      <td>144.0</td>\n",
       "      <td>No</td>\n",
       "    </tr>\n",
       "    <tr>\n",
       "      <th>1</th>\n",
       "      <td>1</td>\n",
       "      <td>2.0</td>\n",
       "      <td>Male</td>\n",
       "      <td>1.185296e+10</td>\n",
       "      <td>16</td>\n",
       "      <td>Clerical</td>\n",
       "      <td>40200.0</td>\n",
       "      <td>18750.0</td>\n",
       "      <td>98.0</td>\n",
       "      <td>36.0</td>\n",
       "      <td>No</td>\n",
       "    </tr>\n",
       "    <tr>\n",
       "      <th>2</th>\n",
       "      <td>2</td>\n",
       "      <td>3.0</td>\n",
       "      <td>Female</td>\n",
       "      <td>1.094334e+10</td>\n",
       "      <td>12</td>\n",
       "      <td>Clerical</td>\n",
       "      <td>21450.0</td>\n",
       "      <td>12000.0</td>\n",
       "      <td>98.0</td>\n",
       "      <td>381.0</td>\n",
       "      <td>No</td>\n",
       "    </tr>\n",
       "    <tr>\n",
       "      <th>3</th>\n",
       "      <td>3</td>\n",
       "      <td>4.0</td>\n",
       "      <td>Female</td>\n",
       "      <td>1.150252e+10</td>\n",
       "      <td>8</td>\n",
       "      <td>Clerical</td>\n",
       "      <td>21900.0</td>\n",
       "      <td>13200.0</td>\n",
       "      <td>98.0</td>\n",
       "      <td>190.0</td>\n",
       "      <td>No</td>\n",
       "    </tr>\n",
       "    <tr>\n",
       "      <th>4</th>\n",
       "      <td>4</td>\n",
       "      <td>5.0</td>\n",
       "      <td>Male</td>\n",
       "      <td>1.174936e+10</td>\n",
       "      <td>15</td>\n",
       "      <td>Clerical</td>\n",
       "      <td>45000.0</td>\n",
       "      <td>21000.0</td>\n",
       "      <td>98.0</td>\n",
       "      <td>138.0</td>\n",
       "      <td>No</td>\n",
       "    </tr>\n",
       "  </tbody>\n",
       "</table>\n",
       "</div>"
      ],
      "text/plain": [
       "   Unnamed: 0   id  gender         bdate  educ    jobcat   salary  salbegin  \\\n",
       "0           0  1.0    Male  1.165415e+10    15   Manager  57000.0   27000.0   \n",
       "1           1  2.0    Male  1.185296e+10    16  Clerical  40200.0   18750.0   \n",
       "2           2  3.0  Female  1.094334e+10    12  Clerical  21450.0   12000.0   \n",
       "3           3  4.0  Female  1.150252e+10     8  Clerical  21900.0   13200.0   \n",
       "4           4  5.0    Male  1.174936e+10    15  Clerical  45000.0   21000.0   \n",
       "\n",
       "   jobtime prevexp minority  \n",
       "0     98.0   144.0       No  \n",
       "1     98.0    36.0       No  \n",
       "2     98.0   381.0       No  \n",
       "3     98.0   190.0       No  \n",
       "4     98.0   138.0       No  "
      ]
     },
     "execution_count": 4,
     "metadata": {},
     "output_type": "execute_result"
    }
   ],
   "source": [
    "df1=pd.read_csv(\"C://shuai//workshop//Python for Data Analytics//Employee data.csv\")\n",
    "df1.head()"
   ]
  },
  {
   "cell_type": "code",
   "execution_count": null,
   "id": "5829bb16",
   "metadata": {
    "scrolled": true
   },
   "outputs": [
    {
     "name": "stdout",
     "output_type": "stream",
     "text": [
      "Dash is running on http://127.0.0.1:8050/\n",
      "\n",
      " * Serving Flask app \"__main__\" (lazy loading)\n",
      " * Environment: production\n",
      "\u001b[31m   WARNING: This is a development server. Do not use it in a production deployment.\u001b[0m\n",
      "\u001b[2m   Use a production WSGI server instead.\u001b[0m\n",
      " * Debug mode: on\n"
     ]
    }
   ],
   "source": [
    "\n",
    "\n",
    "# 1.Create a dash application\n",
    "app =Dash(__name__)\n",
    "\n",
    "# Get the layout of the application and adjust it.\n",
    "# Create an outer division using html.Div and add title to the dashboard using html.H1 component\n",
    "# Add a html.Div and core input text component\n",
    "# Finally, add graph component.\n",
    "\n",
    "\n",
    "app.layout = html.Div([\n",
    "    html.H1('Education Level Performance Dashboard',style={'textAlign': 'center', 'color': '#503D36', 'font-size': 35}),\n",
    "    dcc.Dropdown(df1.jobcat.unique(),'Manger',id='select-jobcat',style={'width':'30%','padding':'3px','font-size':'20px'}),\n",
    "    html.Div([\n",
    "                      html.Div([],id = 'scatter-plot'),\n",
    "                      html.Div([],id = 'his-plot')\n",
    "                      ],style={'display': 'flex'})\n",
    "])\n",
    "\n",
    "\n",
    "\n",
    "# 2.add callback decorator\n",
    "@app.callback(Output(component_id='scatter-plot',component_property='children'),\n",
    "              Output(component_id='his-plot',component_property='children'),\n",
    "               Input(component_id='select-jobcat', component_property='value'))\n",
    "\n",
    "\n",
    "\n",
    "\n",
    "# 3.Add computation to callback function and return graph\n",
    "def get_graph(jobcat):\n",
    "    \n",
    "    df =  df1[df1['jobcat']==jobcat]\n",
    "    fig1 = go.Figure(data=go.Scatter(x=df['educ'], y=df['salary'], mode='markers',marker=dict(color='green')))\n",
    "    fig1.update_layout(title='Education level vs Salary',\n",
    "                 xaxis_title='Education level', yaxis_title='Salary')\n",
    "    \n",
    "    fig2=px.histogram(df['educ'])\n",
    "    fig2.update_layout(title='Education level histogram plot',\n",
    "                 xaxis_title='Education level', yaxis_title='Count')\n",
    "    \n",
    "    return [dcc.Graph(figure=fig1),\n",
    "             dcc.Graph(figure=fig2)]   \n",
    "\n",
    "# 4.Run the app\n",
    "if __name__ == '__main__':\n",
    "    app.run_server(debug=True, use_reloader=False) #\"use_reloader=False\" need in jupyter, not need in spyder"
   ]
  },
  {
   "cell_type": "markdown",
   "id": "feb17706",
   "metadata": {},
   "source": [
    "**1. learn more about Data Visualization with Python**\n",
    "\n",
    "https://www.coursera.org/learn/python-for-data-visualization#syllabus"
   ]
  },
  {
   "cell_type": "markdown",
   "id": "2d53fc28",
   "metadata": {},
   "source": [
    "**2. How to show dashboard other than at your loacal machine:**\n",
    "\n",
    "\n",
    "* You can host your app locally within your IT infrastructure or you can deploy to AWS, Heroku\n",
    "* Heroku can Sharing Public Dash apps for Free **but** you may be block if you ues university's computer when you install Heroku.\n",
    "\n",
    "https://dash.plotly.com/deployment#:~:text=own%20machine.%20To%20share%20a%20Dash%20app%2C%20you,company%20is%20using%20Dash%20Enterprise.%20Dash%20Enterprise%20Deployment"
   ]
  },
  {
   "cell_type": "markdown",
   "id": "654a6626",
   "metadata": {},
   "source": [
    "use heroku to show: https://workshop-dashboard.herokuapp.com/"
   ]
  },
  {
   "cell_type": "code",
   "execution_count": null,
   "id": "55623fda",
   "metadata": {},
   "outputs": [],
   "source": []
  }
 ],
 "metadata": {
  "kernelspec": {
   "display_name": "Python 3 (ipykernel)",
   "language": "python",
   "name": "python3"
  },
  "language_info": {
   "codemirror_mode": {
    "name": "ipython",
    "version": 3
   },
   "file_extension": ".py",
   "mimetype": "text/x-python",
   "name": "python",
   "nbconvert_exporter": "python",
   "pygments_lexer": "ipython3",
   "version": "3.9.7"
  }
 },
 "nbformat": 4,
 "nbformat_minor": 5
}
